{
 "cells": [
  {
   "cell_type": "markdown",
   "metadata": {},
   "source": [
    "### Exercise 1\n",
    "Ask a user for 5 names and place each one in to a list called <i>names</i>. Then, print <i>names</i>."
   ]
  },
  {
   "cell_type": "code",
   "execution_count": 33,
   "metadata": {
    "scrolled": true
   },
   "outputs": [
    {
     "name": "stdout",
     "output_type": "stream",
     "text": [
      "Enter a name:Vik\n",
      "Enter a name:Kenna\n",
      "Enter a name:Yaga\n",
      "Enter a name:Savvy\n",
      "Enter a name:Emma\n",
      "['Vik', 'Kenna', 'Yaga', 'Savvy', 'Emma']\n"
     ]
    }
   ],
   "source": [
    "\n",
    "names=[]\n",
    "for i in range(0,5):\n",
    "    names.append(input('Enter a name:'))\n",
    "\n",
    "print(names)"
   ]
  },
  {
   "cell_type": "markdown",
   "metadata": {},
   "source": [
    "### Exercise 2\n",
    "Print out a randomly selected name in the names list from exercise 1."
   ]
  },
  {
   "cell_type": "code",
   "execution_count": 37,
   "metadata": {},
   "outputs": [
    {
     "data": {
      "text/plain": [
       "'Savvy'"
      ]
     },
     "execution_count": 37,
     "metadata": {},
     "output_type": "execute_result"
    }
   ],
   "source": [
    "import random\n",
    "random_name_number=random.randint(0,4)\n",
    "names[random_name_number]"
   ]
  },
  {
   "cell_type": "markdown",
   "metadata": {},
   "source": [
    "### Exercise 3: \n",
    "Fix bugs in the next cell.  It is trying to create a list for even numbers between two numbers provided by a user.\n"
   ]
  },
  {
   "cell_type": "code",
   "execution_count": 13,
   "metadata": {},
   "outputs": [
    {
     "name": "stdout",
     "output_type": "stream",
     "text": [
      "Enter a starting number: 23\n",
      "Enter an ending number: 37\n",
      "\n",
      "The entire list of numbers is: [23, 24, 25, 26, 27, 28, 29, 30, 31, 32, 33, 34, 35, 36, 37]\n",
      "The list of evens between the 2 numbers is: [24, 26, 28, 30, 32, 34, 36]\n"
     ]
    }
   ],
   "source": [
    "no1 = int(input(\"Enter a starting number: \"))\n",
    "no2 = int(input(\"Enter an ending number: \"))\n",
    "\n",
    "numbers = []\n",
    "evens = []\n",
    "\n",
    "for i in range(no1, no2+1) :\n",
    "    numbers.append(i) \n",
    "    if (i%2 == 0):    # even number\n",
    "        evens.append(i)\n",
    "print()    \n",
    "print(f\"The entire list of numbers is: {numbers}\")    \n",
    "print(f\"The list of evens between the 2 numbers is: {evens}\")\n",
    "  "
   ]
  },
  {
   "cell_type": "markdown",
   "metadata": {},
   "source": [
    "### Exercise 4\n",
    "Finish writing a program to generate 10 random numbers between 1 and 100 and save it to a list.\n",
    "Finally, print out the original numbers followed by the smallest, largest, and average number."
   ]
  },
  {
   "cell_type": "code",
   "execution_count": 42,
   "metadata": {},
   "outputs": [
    {
     "name": "stdout",
     "output_type": "stream",
     "text": [
      "[14, 18, 24, 69, 70, 78, 84, 92, 96, 96]\n",
      "Total is 641\n",
      "Average is 64.10\n",
      "The smallest number is 14\n",
      "The largest number is 96\n"
     ]
    }
   ],
   "source": [
    "import random as rand\n",
    "\n",
    "numbers = []\n",
    "total = 0\n",
    "\n",
    "\n",
    "for i in range(1, 11):\n",
    "    numb = rand.randint(1, 100)\n",
    "    total += numb\n",
    "    numbers.append(numb)\n",
    "\n",
    "org_numbers=numbers.copy()\n",
    "numbers.sort()\n",
    " \n",
    "average = total / len(numbers)\n",
    "smallest=numbers[0]\n",
    "largest=numbers[-1]\n",
    "print(numbers)    \n",
    "print(f\"Total is {total}\")\n",
    "print(f\"Average is {average:.2f}\")\n",
    "print(f\"The smallest number is {smallest}\")\n",
    "print(f\"The largest number is {largest}\")\n",
    "\n",
    "    \n",
    "# some code needed here to find the smallest, largest, and average number\n",
    "\n",
    "\n",
    "\n",
    "\n",
    "\n",
    "\n"
   ]
  },
  {
   "cell_type": "markdown",
   "metadata": {},
   "source": [
    "### Exercise 5\n",
    "\n",
    "Write a function called <b>draw_triangle()</b> to draw a right triangle where the base of the triangle is the number passed in as an arguement. Call <b>draw_triangle()</b> to show it works.\n",
    "\n",
    "e.g. <b>draw_triangle(7)</b> draws as below:\n",
    "\n",
    "    *\n",
    "    **\n",
    "    ***\n",
    "    ****\n",
    "    *****\n",
    "    ******\n",
    "    *******\n"
   ]
  },
  {
   "cell_type": "code",
   "execution_count": 31,
   "metadata": {
    "scrolled": true
   },
   "outputs": [
    {
     "name": "stdout",
     "output_type": "stream",
     "text": [
      "Enter a number: 7\n",
      "*\n",
      "**\n",
      "***\n",
      "****\n",
      "*****\n",
      "******\n",
      "*******\n"
     ]
    }
   ],
   "source": [
    "# write code for draw_triangle() function\n",
    "\n",
    "def draw_triangle(x):\n",
    "   for i in range(1,x+1):\n",
    "    print('*'*i)\n",
    "    \n",
    "x = int(input(\"Enter a number: \"))\n",
    "\n",
    "draw_triangle(x)\n"
   ]
  },
  {
   "cell_type": "code",
   "execution_count": 32,
   "metadata": {},
   "outputs": [
    {
     "name": "stdout",
     "output_type": "stream",
     "text": [
      "Enter a number: 7\n",
      "      *\n",
      "     ***\n",
      "    *****\n",
      "   *******\n",
      "  *********\n",
      " ***********\n",
      "*************\n"
     ]
    }
   ],
   "source": [
    "def draw_symmetric_triangle(x):\n",
    "    for i in range(1, x + 1):\n",
    "        \n",
    "        spaces = ' ' * (x - i)\n",
    "        print(spaces + '*' * (2*i - 1))\n",
    "\n",
    "x = int(input(\"Enter a number: \"))\n",
    "\n",
    "draw_symmetric_triangle(x)\n"
   ]
  },
  {
   "cell_type": "code",
   "execution_count": 57,
   "metadata": {},
   "outputs": [
    {
     "name": "stdout",
     "output_type": "stream",
     "text": [
      "Enter weight in  lbs:245\n",
      "Enter height in inches:72\n",
      "Your BMI is 33.22434413580247, and you are obese---please see a doctor!\n"
     ]
    }
   ],
   "source": [
    "x=float(input(\"Enter weight in  lbs:\"))\n",
    "y=float(input(\"Enter height in inches:\"))\n",
    "z=(x/y**2)*703\n",
    "if z>0 and z<=18.5:\n",
    "    print(f\"Your BMI is {z}, and you are underweight!\")\n",
    "elif z>18.5 and z<=24.9:\n",
    "    print(f\"Your BMI is {z}, and you are at a healthy normal weight. Congratulations!!\")\n",
    "elif z>24.9 and z<30:\n",
    "    print(f\"Your BMI is {z}, and you are overweight!\")\n",
    "elif z>=30:\n",
    "    print(f\"Your BMI is {z}, and you are obese---please see a doctor!\")\n",
    "else:\n",
    "    print(\"Invalid input, you cannot enter a negative value for weight.\")\n",
    "    "
   ]
  },
  {
   "cell_type": "code",
   "execution_count": null,
   "metadata": {},
   "outputs": [],
   "source": []
  },
  {
   "cell_type": "code",
   "execution_count": null,
   "metadata": {},
   "outputs": [],
   "source": []
  }
 ],
 "metadata": {
  "kernelspec": {
   "display_name": "Python 3 (ipykernel)",
   "language": "python",
   "name": "python3"
  },
  "language_info": {
   "codemirror_mode": {
    "name": "ipython",
    "version": 3
   },
   "file_extension": ".py",
   "mimetype": "text/x-python",
   "name": "python",
   "nbconvert_exporter": "python",
   "pygments_lexer": "ipython3",
   "version": "3.11.5"
  }
 },
 "nbformat": 4,
 "nbformat_minor": 4
}
